{
 "cells": [
  {
   "cell_type": "markdown",
   "metadata": {},
   "source": [
    "# Imports\n",
    "All problem-speciffic files (code) in in the folder `MeshpLaplace2D`, namely the loading of pre-prepared mesh and definition of energy in jax.numpy."
   ]
  },
  {
   "cell_type": "code",
   "execution_count": 1,
   "metadata": {},
   "outputs": [],
   "source": [
    "from tools.minimizers import newton\n",
    "from tools.sparse_solvers import HessSolverGenerator\n",
    "from tools.jax_diff import EnergyDerivator as EnergyDerivator\n",
    "from pLaplace2D.jax_energy import J\n",
    "from pLaplace2D.mesh import MeshpLaplace2D\n",
    "from IPython.display import display, HTML\n",
    "import pandas as pd\n",
    "\n",
    "from jax import config\n",
    "\n",
    "config.update(\"jax_enable_x64\", True)"
   ]
  },
  {
   "cell_type": "markdown",
   "metadata": {},
   "source": [
    "# Setup of the problem"
   ]
  },
  {
   "cell_type": "code",
   "execution_count": 2,
   "metadata": {},
   "outputs": [
    {
     "name": "stderr",
     "output_type": "stream",
     "text": [
      "An NVIDIA GPU may be present on this machine, but a CUDA-enabled jaxlib is not installed. Falling back to cpu.\n"
     ]
    },
    {
     "data": {
      "text/html": [
       "<table border=\"1\" class=\"dataframe\">\n",
       "  <thead>\n",
       "    <tr style=\"text-align: right;\">\n",
       "      <th></th>\n",
       "      <th>Time</th>\n",
       "      <th>Nit</th>\n",
       "      <th>Fun</th>\n",
       "    </tr>\n",
       "  </thead>\n",
       "  <tbody>\n",
       "    <tr>\n",
       "      <th>2</th>\n",
       "      <td>0.01 / 0.18</td>\n",
       "      <td>4</td>\n",
       "      <td>-7.3411</td>\n",
       "    </tr>\n",
       "    <tr>\n",
       "      <th>3</th>\n",
       "      <td>0.01 / 0.17</td>\n",
       "      <td>4</td>\n",
       "      <td>-7.7767</td>\n",
       "    </tr>\n",
       "    <tr>\n",
       "      <th>4</th>\n",
       "      <td>0.02 / 0.17</td>\n",
       "      <td>5</td>\n",
       "      <td>-7.9051</td>\n",
       "    </tr>\n",
       "    <tr>\n",
       "      <th>5</th>\n",
       "      <td>0.07 / 0.25</td>\n",
       "      <td>6</td>\n",
       "      <td>-7.9430</td>\n",
       "    </tr>\n",
       "    <tr>\n",
       "      <th>6</th>\n",
       "      <td>0.30 / 0.23</td>\n",
       "      <td>6</td>\n",
       "      <td>-7.9546</td>\n",
       "    </tr>\n",
       "    <tr>\n",
       "      <th>7</th>\n",
       "      <td>0.86 / 0.42</td>\n",
       "      <td>6</td>\n",
       "      <td>-7.9583</td>\n",
       "    </tr>\n",
       "    <tr>\n",
       "      <th>8</th>\n",
       "      <td>4.14 / 1.20</td>\n",
       "      <td>8</td>\n",
       "      <td>-7.9596</td>\n",
       "    </tr>\n",
       "    <tr>\n",
       "      <th>9</th>\n",
       "      <td>19.96 / 4.41</td>\n",
       "      <td>9</td>\n",
       "      <td>-7.9600</td>\n",
       "    </tr>\n",
       "  </tbody>\n",
       "</table>"
      ],
      "text/plain": [
       "<IPython.core.display.HTML object>"
      ]
     },
     "metadata": {},
     "output_type": "display_data"
    },
    {
     "name": "stdout",
     "output_type": "stream",
     "text": [
      "\\begin{tabular}{lllr}\n",
      " & Time & Nit & Fun \\\\\n",
      "2 & 0.01 / 0.18 & 4 & -7.3411 \\\\\n",
      "3 & 0.01 / 0.17 & 4 & -7.7767 \\\\\n",
      "4 & 0.02 / 0.17 & 5 & -7.9051 \\\\\n",
      "5 & 0.07 / 0.25 & 6 & -7.9430 \\\\\n",
      "6 & 0.30 / 0.23 & 6 & -7.9546 \\\\\n",
      "7 & 0.86 / 0.42 & 6 & -7.9583 \\\\\n",
      "8 & 4.14 / 1.20 & 8 & -7.9596 \\\\\n",
      "9 & 19.96 / 4.41 & 9 & -7.9600 \\\\\n",
      "\\end{tabular}\n",
      "\n"
     ]
    }
   ],
   "source": [
    "results_df = pd.DataFrame(columns=['Time', 'Nit', 'Fun'])\n",
    "times_asembly = []\n",
    "times_solver = []\n",
    "\n",
    "for mesh_level in range(2, 10):\n",
    "\n",
    "    mesh = MeshpLaplace2D(mesh_level=mesh_level)\n",
    "    params, adjacency, u_init = mesh.get_data_jax()\n",
    "    energy_pLaplace = EnergyDerivator(J, params, adjacency, u_init)\n",
    "\n",
    "    F, dF, ddF = energy_pLaplace.get_derivatives()\n",
    "    ddf_with_solver = HessSolverGenerator(ddf=ddF, solver_type=\"amg\" if mesh_level > 6 else \"direct\", verbose=False, tol=1e-3)\n",
    "    res = newton(F, dF, ddf_with_solver, u_init, verbose=False, tolf=1e-5, linesearch_tol=1e-3)\n",
    "    # Create a DataFrame for the current result, round the results, and concatenate it with the main DataFrame\n",
    "    time_asembly = energy_pLaplace.timings['compilation'] + energy_pLaplace.timings['coloring']\n",
    "    times_asembly.append(time_asembly)\n",
    "    times_solver.append(res['time'])\n",
    "\n",
    "    current_result_df = pd.DataFrame([{\n",
    "        'Time': f\"{res['time']:.2f} / {time_asembly:.2f}\",\n",
    "        'Nit': res['nit'],\n",
    "        'Fun': round(float(res['fun']), 4)\n",
    "    }])\n",
    "    results_df = pd.concat([results_df, current_result_df], ignore_index=True)\n",
    "\n",
    "# Display the DataFrame as HTML in Jupyter Notebook\n",
    "results_df.index = range(2,10)  # Reset index to simple counter\n",
    "display(HTML(results_df.to_html()))\n",
    "\n",
    "# Apply rounding for LaTeX export using Styler.format\n",
    "latex_style = results_df.style.format({\n",
    "    'Fun': \"{:.4f}\"\n",
    "})\n",
    "\n",
    "print(latex_style.to_latex())"
   ]
  }
 ],
 "metadata": {
  "kernelspec": {
   "display_name": "Python 3",
   "language": "python",
   "name": "python3"
  },
  "language_info": {
   "codemirror_mode": {
    "name": "ipython",
    "version": 3
   },
   "file_extension": ".py",
   "mimetype": "text/x-python",
   "name": "python",
   "nbconvert_exporter": "python",
   "pygments_lexer": "ipython3",
   "version": "3.11.8"
  }
 },
 "nbformat": 4,
 "nbformat_minor": 2
}

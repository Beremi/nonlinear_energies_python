{
 "cells": [
  {
   "cell_type": "markdown",
   "metadata": {},
   "source": [
    "# Imports\n",
    "All problem-speciffic files (code) in in the folder `HyperElasticity3D`, namely the loading of pre-prepared mesh and definition of energy in jax.numpy."
   ]
  },
  {
   "cell_type": "code",
   "execution_count": null,
   "metadata": {},
   "outputs": [],
   "source": [
    "from tools.minimizers import newton\n",
    "from tools.sparse_solvers import HessSolverGenerator\n",
    "from tools.jax_diff import EnergyDerivator as EnergyDerivator\n",
    "from HyperElasticity3D.jax_energy import energy_jax\n",
    "from HyperElasticity3D.mesh import MeshHyperElasticity3D\n",
    "from HyperElasticity3D.rotate_boundary import rotate_boundary\n",
    "\n",
    "import numpy as np\n",
    "from jax import config\n",
    "\n",
    "config.update(\"jax_enable_x64\", True)"
   ]
  },
  {
   "cell_type": "markdown",
   "metadata": {},
   "source": [
    "# Setup of the problem"
   ]
  },
  {
   "cell_type": "code",
   "execution_count": null,
   "metadata": {},
   "outputs": [],
   "source": [
    "rotation_per_iter = 4 * 2 * np.pi / 24\n",
    "mesh = MeshHyperElasticity3D(mesh_level=3)\n",
    "params, adjacency, u_init = mesh.get_data_jax()\n",
    "energy_hyperelasticity = EnergyDerivator(energy_jax, params, adjacency, u_init)\n",
    "\n",
    "params = rotate_boundary(params, angle=rotation_per_iter)\n",
    "energy_hyperelasticity.params = params\n",
    "\n",
    "F, dF, ddF = energy_hyperelasticity.get_derivatives()\n",
    "ddf_with_solver = HessSolverGenerator(ddf=ddF, solver_type=\"amg\", elastic_kernel=mesh.elastic_kernel, verbose=True, tol=1e-3)"
   ]
  },
  {
   "cell_type": "markdown",
   "metadata": {},
   "source": [
    "# Solution via Newton's method"
   ]
  },
  {
   "cell_type": "code",
   "execution_count": null,
   "metadata": {},
   "outputs": [],
   "source": [
    "res = newton(F, dF, ddf_with_solver, u_init, verbose=True, tolf=1e-4, linesearch_tol=1e-3)\n",
    "res"
   ]
  },
  {
   "cell_type": "markdown",
   "metadata": {},
   "source": [
    "### And other stepps of rotation will be as follows:"
   ]
  },
  {
   "cell_type": "code",
   "execution_count": null,
   "metadata": {},
   "outputs": [],
   "source": [
    "# Apply timestep = rotation of the right boundary\n",
    "params = rotate_boundary(params, angle=rotation_per_iter)\n",
    "energy_hyperelasticity.params = params\n",
    "\n",
    "# Get derivatives\n",
    "F, dF, ddF = energy_hyperelasticity.get_derivatives()\n",
    "ddf_with_solver = HessSolverGenerator(ddf=ddF, solver_type=\"amg\", elastic_kernel=mesh.elastic_kernel, verbose=True, tol=1e-3)\n",
    "# Actualize initial guess\n",
    "u_init = res[\"x\"]\n",
    "\n",
    "# Newton method\n",
    "res = newton(F, dF, ddf_with_solver, u_init, verbose=True, tolf=1e-4, linesearch_tol=1e-3)\n",
    "res"
   ]
  }
 ],
 "metadata": {
  "kernelspec": {
   "display_name": "Python 3",
   "language": "python",
   "name": "python3"
  },
  "language_info": {
   "codemirror_mode": {
    "name": "ipython",
    "version": 3
   },
   "file_extension": ".py",
   "mimetype": "text/x-python",
   "name": "python",
   "nbconvert_exporter": "python",
   "pygments_lexer": "ipython3",
   "version": "3.11.8"
  }
 },
 "nbformat": 4,
 "nbformat_minor": 2
}

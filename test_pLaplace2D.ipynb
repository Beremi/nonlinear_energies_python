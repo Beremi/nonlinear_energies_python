{
 "cells": [
  {
   "cell_type": "markdown",
   "metadata": {},
   "source": [
    "# Imports\n",
    "All problem-speciffic files (code) in in the folder `MeshpLaplace2D`, namely the loading of pre-prepared mesh and definition of energy in jax.numpy."
   ]
  },
  {
   "cell_type": "code",
   "execution_count": null,
   "metadata": {},
   "outputs": [],
   "source": [
    "from tools.minimizers import newton\n",
    "from tools.sparse_solvers import HessSolverGenerator\n",
    "from tools.jax_diff import EnergyDerivator as EnergyDerivator\n",
    "from pLaplace2D.jax_energy import J\n",
    "from pLaplace2D.mesh import MeshpLaplace2D\n",
    "\n",
    "from jax import config\n",
    "\n",
    "config.update(\"jax_enable_x64\", True)"
   ]
  },
  {
   "cell_type": "markdown",
   "metadata": {},
   "source": [
    "# Setup of the problem"
   ]
  },
  {
   "cell_type": "code",
   "execution_count": null,
   "metadata": {},
   "outputs": [],
   "source": [
    "mesh = MeshpLaplace2D(mesh_level=7)\n",
    "params, adjacency, u_init = mesh.get_data_jax()\n",
    "energy_pLaplace = EnergyDerivator(J, params, adjacency, u_init)\n",
    "\n",
    "F, dF, ddF = energy_pLaplace.get_derivatives()\n",
    "ddf_with_solver = HessSolverGenerator(ddf=ddF, solver_type=\"amg\", verbose=True, tol=1e-3)\n",
    "print(energy_pLaplace.timings)"
   ]
  },
  {
   "cell_type": "markdown",
   "metadata": {},
   "source": [
    "# Solution via Newton's method"
   ]
  },
  {
   "cell_type": "code",
   "execution_count": null,
   "metadata": {},
   "outputs": [],
   "source": [
    "res = newton(F, dF, ddf_with_solver, u_init, verbose=True, tolf=1e-5, linesearch_tol=1e-3)\n",
    "res"
   ]
  }
 ],
 "metadata": {
  "kernelspec": {
   "display_name": "Python 3",
   "language": "python",
   "name": "python3"
  },
  "language_info": {
   "codemirror_mode": {
    "name": "ipython",
    "version": 3
   },
   "file_extension": ".py",
   "mimetype": "text/x-python",
   "name": "python",
   "nbconvert_exporter": "python",
   "pygments_lexer": "ipython3",
   "version": "3.11.8"
  }
 },
 "nbformat": 4,
 "nbformat_minor": 2
}
